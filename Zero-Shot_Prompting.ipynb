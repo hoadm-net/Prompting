{
 "cells": [
  {
   "metadata": {},
   "cell_type": "markdown",
   "source": [
    "# 1. Tổng quan\n",
    "\n",
    "```Zero-shot prompting``` là kỹ thuật yêu cầu mô hình ngôn ngữ lớn (LLM) thực hiện một nhiệm vụ chỉ dựa vào hướng dẫn hoặc mô tả nhiệm vụ, mà không cung cấp bất kỳ ví dụ minh họa nào trong prompt. Mô hình sẽ sử dụng kiến thức đã được huấn luyện trước đó để suy luận và trả lời.\n",
    "\n",
    "# 2. Đặc điểm\n",
    "1. **Không có ví dụ**: Prompt chỉ chứa hướng dẫn hoặc câu hỏi, không có ví dụ mẫu về đầu vào và đầu ra.\n",
    "2. **Dựa vào kiến thức tổng quát**: Mô hình tận dụng kiến thức đã học từ tập dữ liệu lớn để giải quyết nhiệm vụ mới mà không cần huấn luyện bổ sung.\n",
    "3. **Hiệu quả cho các nhiệm vụ đơn giản, phổ biến**: Đặc biệt phù hợp với các tác vụ như phân loại cảm xúc, trả lời câu hỏi, dịch thuật, tóm tắt, v.v.\n",
    "\n",
    "# 3. Trường hợp nào nên dùng Zero-shot prompting\n",
    "* Khi nhiệm vụ đơn giản, phổ biến, mô hình đã có kiến thức nền tảng.\n",
    "* Khi không có sẵn dữ liệu mẫu hoặc muốn tiết kiệm thời gian chuẩn bị ví dụ.\n",
    "* Khi cần kiểm tra khả năng tổng quát hóa của mô hình trên các tác vụ mới.\n",
    "\n",
    "# 4. Một số ví dụ về Zero-shot prompting"
   ],
   "id": "3dd193036ace6113"
  },
  {
   "metadata": {
    "ExecuteTime": {
     "end_time": "2025-04-26T14:24:19.466756Z",
     "start_time": "2025-04-26T14:24:19.204319Z"
    }
   },
   "cell_type": "code",
   "source": [
    "from langchain_core.messages import HumanMessage, SystemMessage\n",
    "from langchain.chat_models import init_chat_model\n",
    "from dotenv import load_dotenv\n",
    "\n",
    "load_dotenv()"
   ],
   "id": "fc8db03384ca9de8",
   "outputs": [
    {
     "data": {
      "text/plain": [
       "True"
      ]
     },
     "execution_count": 1,
     "metadata": {},
     "output_type": "execute_result"
    }
   ],
   "execution_count": 1
  },
  {
   "metadata": {},
   "cell_type": "markdown",
   "source": "## 4.1. Bài toán 1 - Phân tích cảm xúc (Sentiment Analysis)",
   "id": "d55e8f98fbb2db5e"
  },
  {
   "metadata": {
    "ExecuteTime": {
     "end_time": "2025-04-26T14:24:22.603885Z",
     "start_time": "2025-04-26T14:24:19.467753Z"
    }
   },
   "cell_type": "code",
   "source": [
    "model = init_chat_model(\n",
    "    model='gpt-4o-mini', \n",
    "    model_provider='openai',\n",
    "    temperature=0.1\n",
    ")\n",
    "\n",
    "examples = [\n",
    "    'Khách sạn đẹp tuyệt, nhân viên thì nhiệt tình',\n",
    "    'Đồ ăn ở đây siêu mặn',\n",
    "    'Nhận phòng vào thứ 3'\n",
    "]\n",
    "\n",
    "for example in examples:\n",
    "    messages = [\n",
    "        SystemMessage('Trong vai trò chuyên gia tư phân tích cảm xúc, hãy phân loại câu nói của người dùng vào 1 trong 3 loại nhãn sau: tích cực, tiêu cực, trung tính. Chỉ cần phản hồi ngắn gọn nhãn, khg cần giải thích gì thêm.'),\n",
    "        HumanMessage(example),\n",
    "    ]\n",
    "    \n",
    "    response = model.invoke(messages)\n",
    "    print(response.content)\n",
    "    "
   ],
   "id": "f68a4864cb77e8ef",
   "outputs": [
    {
     "name": "stdout",
     "output_type": "stream",
     "text": [
      "Tích cực\n",
      "Tiêu cực\n",
      "Trung tính\n"
     ]
    }
   ],
   "execution_count": 2
  },
  {
   "metadata": {},
   "cell_type": "markdown",
   "source": "## 4.2 Bài toán 2 - Hệ hỏi đáp",
   "id": "69b2b9017cf3135b"
  },
  {
   "metadata": {
    "ExecuteTime": {
     "end_time": "2025-04-26T14:24:23.660618Z",
     "start_time": "2025-04-26T14:24:22.606360Z"
    }
   },
   "cell_type": "code",
   "source": [
    "model = init_chat_model(\n",
    "    model='gpt-4o-mini', \n",
    "    model_provider='openai',\n",
    "    temperature=0.8\n",
    ")\n",
    "\n",
    "\n",
    "messages = [\n",
    "    SystemMessage('Trong vai trò chuyên gia, hãy trả lời người dùng một số câu hỏi.'),\n",
    "    HumanMessage('Thủ đô nước CHXHCN Việt Nam là thành phố nào?'),\n",
    "]\n",
    "\n",
    "response = model.invoke(messages)\n",
    "print(response.content)"
   ],
   "id": "e8d26d6bb439bdca",
   "outputs": [
    {
     "name": "stdout",
     "output_type": "stream",
     "text": [
      "Thủ đô của nước Cộng hòa Xã hội chủ nghĩa Việt Nam là Hà Nội.\n"
     ]
    }
   ],
   "execution_count": 3
  }
 ],
 "metadata": {
  "kernelspec": {
   "display_name": "Python 3",
   "language": "python",
   "name": "python3"
  },
  "language_info": {
   "codemirror_mode": {
    "name": "ipython",
    "version": 2
   },
   "file_extension": ".py",
   "mimetype": "text/x-python",
   "name": "python",
   "nbconvert_exporter": "python",
   "pygments_lexer": "ipython2",
   "version": "2.7.6"
  }
 },
 "nbformat": 4,
 "nbformat_minor": 5
}
