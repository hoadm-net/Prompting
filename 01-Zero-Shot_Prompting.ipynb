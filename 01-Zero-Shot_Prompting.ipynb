{
 "cells": [
  {
   "metadata": {},
   "cell_type": "markdown",
   "source": [
    "# 1. Tổng quan\n",
    "\n",
    "```Zero-shot prompting``` là một kỹ thuật trong lĩnh vực xử lý ngôn ngữ tự nhiên (NLP) sử dụng các mô hình ngôn ngữ lớn (LLMs) để thực hiện một tác vụ mà không cần cung cấp bất kỳ ví dụ minh họa nào về cách thực hiện tác vụ đó trong prompt. Thay vào đó, người dùng chỉ cần mô tả rõ ràng nhiệm vụ hoặc yêu cầu, và mô hình sẽ dựa vào kiến thức đã học từ quá trình huấn luyện quy mô lớn để suy luận và tạo ra phản hồi phù hợp. \n",
    "\n",
    "# 2. Đặc điểm\n",
    "1. Không cần ví dụ minh họa: Prompt không chứa ví dụ về đầu vào–đầu ra cho tác vụ, chỉ có mô tả nhiệm vụ.\n",
    "2. Tận dụng kiến thức tổng quát: Mô hình dựa vào kiến thức nền tảng được học trong quá trình huấn luyện trên tập dữ liệu lớn để giải quyết tác vụ mới, kể cả khi chưa từng được huấn luyện trực tiếp cho tác vụ đó.\n",
    "3. Linh hoạt và mở rộng: Cho phép mô hình thực hiện nhiều tác vụ khác nhau mà không cần huấn luyện lại hay thu thập dữ liệu gán nhãn mới, phù hợp với các trường hợp thiếu dữ liệu hoặc cần mở rộng nhanh chóng.\n",
    "4. Hiệu quả phụ thuộc vào chất lượng prompt: Thành công của zero-shot prompting phụ thuộc vào việc mô tả nhiệm vụ rõ ràng, tránh mơ hồ, và cung cấp đủ ngữ cảnh cần thiết.\n",
    "5. Khả năng tổng quát hóa: Mô hình có thể áp dụng kiến thức cho các tác vụ hoặc miền chưa từng gặp, thể hiện năng lực tổng quát hóa cao của LLMs\n",
    "\n",
    "# 3. Best practice\n",
    "Để đạt hiệu quả tối ưu với zero-shot prompting, các chuyên gia khuyến nghị:\n",
    "* Cung cấp hướng dẫn rõ ràng: Đảm bảo prompt mô tả nhiệm vụ một cách cụ thể, không mơ hồ.\n",
    "* Định dạng đầu ra: Xác định rõ định dạng mong muốn cho câu trả lời (ví dụ: “Trả lời bằng một từ”, “Liệt kê dưới dạng bullet points”).\n",
    "* Cung cấp ngữ cảnh cần thiết: Nếu có thể gây nhầm lẫn (ví dụ: từ đa nghĩa), hãy bổ sung ngữ cảnh để mô hình hiểu đúng.\n",
    "* Tránh quá phức tạp: Zero-shot phù hợp nhất với các tác vụ đơn giản hoặc phổ quát (phân loại cảm xúc, dịch thuật, tóm tắt), các tác vụ chuyên sâu hoặc đặc thù có thể cần few-shot hoặc fine-tuning.\n",
    "* Kiểm tra và tinh chỉnh: Thử nghiệm với nhiều cách diễn đạt khác nhau để chọn prompt hiệu quả nhất, có thể sử dụng phương pháp iterative refinement.\n",
    "\n",
    "# 4. Ví dụ"
   ],
   "id": "3dd193036ace6113"
  },
  {
   "metadata": {
    "ExecuteTime": {
     "end_time": "2025-04-28T01:30:25.560445Z",
     "start_time": "2025-04-28T01:30:25.255265Z"
    }
   },
   "cell_type": "code",
   "source": [
    "from langchain_core.messages import HumanMessage, SystemMessage\n",
    "from langchain.chat_models import init_chat_model\n",
    "from dotenv import load_dotenv\n",
    "\n",
    "load_dotenv()"
   ],
   "id": "fc8db03384ca9de8",
   "outputs": [
    {
     "data": {
      "text/plain": [
       "True"
      ]
     },
     "execution_count": 1,
     "metadata": {},
     "output_type": "execute_result"
    }
   ],
   "execution_count": 1
  },
  {
   "metadata": {},
   "cell_type": "markdown",
   "source": "## 4.1. Bài toán 1 - Phân tích cảm xúc (Sentiment Analysis)",
   "id": "d55e8f98fbb2db5e"
  },
  {
   "metadata": {
    "ExecuteTime": {
     "end_time": "2025-04-28T01:30:29.264057Z",
     "start_time": "2025-04-28T01:30:25.561494Z"
    }
   },
   "cell_type": "code",
   "source": [
    "model = init_chat_model(\n",
    "    model='gpt-4o-mini', \n",
    "    model_provider='openai',\n",
    "    temperature=0.1\n",
    ")\n",
    "\n",
    "examples = [\n",
    "    'Khách sạn đẹp tuyệt, nhân viên thì nhiệt tình',\n",
    "    'Đồ ăn ở đây siêu mặn',\n",
    "    'Nhận phòng vào thứ 3'\n",
    "]\n",
    "\n",
    "for example in examples:\n",
    "    messages = [\n",
    "        SystemMessage('Trong vai trò chuyên gia tư phân tích cảm xúc, hãy phân loại câu nói của người dùng vào 1 trong 3 loại nhãn sau: tích cực, tiêu cực, trung tính. Chỉ cần phản hồi ngắn gọn nhãn, khg cần giải thích gì thêm.'),\n",
    "        HumanMessage(example),\n",
    "    ]\n",
    "    \n",
    "    response = model.invoke(messages)\n",
    "    print(response.content)\n",
    "    "
   ],
   "id": "f68a4864cb77e8ef",
   "outputs": [
    {
     "name": "stdout",
     "output_type": "stream",
     "text": [
      "Tích cực\n",
      "Tiêu cực\n",
      "Trung tính\n"
     ]
    }
   ],
   "execution_count": 2
  },
  {
   "metadata": {},
   "cell_type": "markdown",
   "source": "## 4.2 Bài toán 2 - Hệ hỏi đáp",
   "id": "69b2b9017cf3135b"
  },
  {
   "metadata": {
    "ExecuteTime": {
     "end_time": "2025-04-28T01:30:30.774012Z",
     "start_time": "2025-04-28T01:30:29.266407Z"
    }
   },
   "cell_type": "code",
   "source": [
    "model = init_chat_model(\n",
    "    model='gpt-4o-mini', \n",
    "    model_provider='openai',\n",
    "    temperature=0.8\n",
    ")\n",
    "\n",
    "\n",
    "messages = [\n",
    "    SystemMessage('Trong vai trò chuyên gia, hãy trả lời người dùng một số câu hỏi.'),\n",
    "    HumanMessage('Thủ đô nước CHXHCN Việt Nam là thành phố nào?'),\n",
    "]\n",
    "\n",
    "response = model.invoke(messages)\n",
    "print(response.content)"
   ],
   "id": "e8d26d6bb439bdca",
   "outputs": [
    {
     "name": "stdout",
     "output_type": "stream",
     "text": [
      "Thủ đô của nước Cộng hòa Xã hội Chủ nghĩa Việt Nam là Hà Nội.\n"
     ]
    }
   ],
   "execution_count": 3
  }
 ],
 "metadata": {
  "kernelspec": {
   "display_name": "Python 3",
   "language": "python",
   "name": "python3"
  },
  "language_info": {
   "codemirror_mode": {
    "name": "ipython",
    "version": 2
   },
   "file_extension": ".py",
   "mimetype": "text/x-python",
   "name": "python",
   "nbconvert_exporter": "python",
   "pygments_lexer": "ipython2",
   "version": "2.7.6"
  }
 },
 "nbformat": 4,
 "nbformat_minor": 5
}
