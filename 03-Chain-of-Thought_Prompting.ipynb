{
 "cells": [
  {
   "metadata": {},
   "cell_type": "markdown",
   "source": [
    "# 1. Tổng quan\n",
    "\n",
    "```Chain-of-Thought (CoT) prompting``` là kỹ thuật hướng dẫn mô hình ngôn ngữ lớn (LLM) trình bày các bước suy luận trung gian trước khi đưa ra câu trả lời cuối cùng. Phương pháp này mô phỏng quá trình tư duy từng bước của con người, giúp cải thiện độ chính xác và khả năng giải quyết vấn đề phức tạp.\n",
    "\n",
    "# 2. Cách thức hoạt động\n",
    "* Phân rã vấn đề: Chia bài toán phức tạp thành các bước đơn giản.\n",
    "* Hướng dẫn suy luận: Yêu cầu mô hình \"hiển thị\" quá trình suy nghĩ.\n",
    "* Tổng hợp kết quả: Dựa trên các bước trung gian để đưa ra đáp án cuối.\n",
    "\n",
    "# 3. Các phương pháp triển khai"
   ],
   "id": "323e49b1fd15cc4b"
  },
  {
   "metadata": {
    "ExecuteTime": {
     "end_time": "2025-04-26T15:19:38.636703Z",
     "start_time": "2025-04-26T15:19:38.365749Z"
    }
   },
   "cell_type": "code",
   "source": [
    "from langchain_core.messages import HumanMessage, SystemMessage, AIMessage\n",
    "from langchain.chat_models import init_chat_model\n",
    "from dotenv import load_dotenv\n",
    "\n",
    "load_dotenv()"
   ],
   "id": "9fd8b31cbd48cc7d",
   "outputs": [
    {
     "data": {
      "text/plain": [
       "True"
      ]
     },
     "execution_count": 1,
     "metadata": {},
     "output_type": "execute_result"
    }
   ],
   "execution_count": 1
  },
  {
   "metadata": {},
   "cell_type": "markdown",
   "source": [
    "## 3.1. Zero-shot CoT\n",
    "* Cách dùng: Thêm cụm từ kích hoạt (ví dụ: \"Hãy suy nghĩ từng bước\") vào prompt.\n",
    "* Ưu điểm: Không cần ví dụ mẫu."
   ],
   "id": "c16039cd3664f130"
  },
  {
   "metadata": {
    "ExecuteTime": {
     "end_time": "2025-04-26T15:19:47.085626Z",
     "start_time": "2025-04-26T15:19:38.637962Z"
    }
   },
   "cell_type": "code",
   "source": [
    "model = init_chat_model(\n",
    "    model='gpt-4o-mini', \n",
    "    model_provider='openai',\n",
    "    temperature=0.1\n",
    ")\n",
    "\n",
    "\n",
    "messages = [\n",
    "    SystemMessage('Trong vai trò chuyên gia toán học, hãy giúp tôi giải các bài toán sau'),\n",
    "    HumanMessage('Giải phương trình x^2 - 5x + 6 = 0. Hãy suy nghĩ từng bước.'),\n",
    "]\n",
    "\n",
    "response = model.invoke(messages)\n",
    "print(response.content) "
   ],
   "id": "4651fe6bdd3a9cf",
   "outputs": [
    {
     "name": "stdout",
     "output_type": "stream",
     "text": [
      "Để giải phương trình bậc hai \\( x^2 - 5x + 6 = 0 \\), chúng ta sẽ sử dụng công thức nghiệm của phương trình bậc hai, có dạng:\n",
      "\n",
      "\\[\n",
      "x = \\frac{-b \\pm \\sqrt{b^2 - 4ac}}{2a}\n",
      "\\]\n",
      "\n",
      "Trong phương trình của chúng ta, các hệ số là:\n",
      "- \\( a = 1 \\)\n",
      "- \\( b = -5 \\)\n",
      "- \\( c = 6 \\)\n",
      "\n",
      "Bước 1: Tính giá trị của \\( b^2 - 4ac \\).\n",
      "\n",
      "\\[\n",
      "b^2 = (-5)^2 = 25\n",
      "\\]\n",
      "\\[\n",
      "4ac = 4 \\cdot 1 \\cdot 6 = 24\n",
      "\\]\n",
      "\\[\n",
      "b^2 - 4ac = 25 - 24 = 1\n",
      "\\]\n",
      "\n",
      "Bước 2: Tính nghiệm của phương trình.\n",
      "\n",
      "Áp dụng vào công thức nghiệm:\n",
      "\n",
      "\\[\n",
      "x = \\frac{-(-5) \\pm \\sqrt{1}}{2 \\cdot 1}\n",
      "\\]\n",
      "\\[\n",
      "x = \\frac{5 \\pm 1}{2}\n",
      "\\]\n",
      "\n",
      "Bước 3: Tính các giá trị của \\( x \\).\n",
      "\n",
      "- Nghiệm thứ nhất:\n",
      "\\[\n",
      "x_1 = \\frac{5 + 1}{2} = \\frac{6}{2} = 3\n",
      "\\]\n",
      "\n",
      "- Nghiệm thứ hai:\n",
      "\\[\n",
      "x_2 = \\frac{5 - 1}{2} = \\frac{4}{2} = 2\n",
      "\\]\n",
      "\n",
      "Vậy, phương trình \\( x^2 - 5x + 6 = 0 \\) có hai nghiệm:\n",
      "\n",
      "\\[\n",
      "x_1 = 3 \\quad \\text{và} \\quad x_2 = 2\n",
      "\\]\n"
     ]
    }
   ],
   "execution_count": 2
  },
  {
   "metadata": {},
   "cell_type": "markdown",
   "source": [
    "## 3.2. Few-shot CoT\n",
    "Cách dùng: Cung cấp các ví dụ mẫu có kèm lập luận.\n"
   ],
   "id": "89accfb2e1ca7bdf"
  },
  {
   "metadata": {
    "ExecuteTime": {
     "end_time": "2025-04-26T15:19:50.246521Z",
     "start_time": "2025-04-26T15:19:47.087365Z"
    }
   },
   "cell_type": "code",
   "source": [
    "model = init_chat_model(\n",
    "    model='gpt-4o-mini', \n",
    "    model_provider='openai',\n",
    "    temperature=0.1\n",
    ")\n",
    "\n",
    "\n",
    "messages = [\n",
    "    SystemMessage(\"\"\"\n",
    "Trong vai trò chuyên gia toán học, hãy giúp tôi giải phương trình bằng cách trình bày từng bước như các ví dụ sau:\n",
    "\n",
    "**Ví dụ 1**:\n",
    "Phương trình: x² - 5x + 6 = 0\n",
    "Bước 1: Xác định hệ số a=1, b=-5, c=6\n",
    "Bước 2: Tính delta Δ = b² - 4ac = (-5)² - 4*1*6 = 25 - 24 = 1\n",
    "Bước 3: Vì Δ > 0, phương trình có 2 nghiệm phân biệt\n",
    "Bước 4: x1 = (-b + √Δ)/(2a) = (5 + 1)/2 = 3\n",
    "Bước 5: x2 = (-b - √Δ)/(2a) = (5 - 1)/2 = 2\n",
    "→ Kết quả: x=3 hoặc x=2\n",
    "\n",
    "**Ví dụ 2**:\n",
    "Phương trình: 2x² + 4x - 6 = 0\n",
    "Bước 1: Chia cả 2 vế cho 2 → x² + 2x - 3 = 0\n",
    "Bước 2: Tính Δ = 2² - 4*1*(-3) = 4 + 12 = 16\n",
    "Bước 3: √Δ = 4\n",
    "Bước 4: x = [-2 ± 4]/2 → x1=1, x2=-3\n",
    "→ Kết quả: x=1 hoặc x=-3\n",
    "\"\"\"),\n",
    "    HumanMessage('x^2 - 5x + 6 = 0'),\n",
    "]\n",
    "\n",
    "response = model.invoke(messages)\n",
    "print(response.content) "
   ],
   "id": "21bb3cc485bdf860",
   "outputs": [
    {
     "name": "stdout",
     "output_type": "stream",
     "text": [
      "Phương trình: x² - 5x + 6 = 0\n",
      "\n",
      "Bước 1: Xác định hệ số a=1, b=-5, c=6\n",
      "\n",
      "Bước 2: Tính delta Δ = b² - 4ac = (-5)² - 4*1*6 = 25 - 24 = 1\n",
      "\n",
      "Bước 3: Vì Δ > 0, phương trình có 2 nghiệm phân biệt\n",
      "\n",
      "Bước 4: Tính nghiệm x1 = (-b + √Δ)/(2a) = (5 + 1)/2 = 3\n",
      "\n",
      "Bước 5: Tính nghiệm x2 = (-b - √Δ)/(2a) = (5 - 1)/2 = 2\n",
      "\n",
      "→ Kết quả: x=3 hoặc x=2\n"
     ]
    }
   ],
   "execution_count": 3
  },
  {
   "metadata": {},
   "cell_type": "markdown",
   "source": [
    "## 3.3. Auto-CoT \n",
    "* Tự động tạo các ví dụ suy luận bằng cách phân cụm câu hỏi và chọn mẫu đại diện.\n",
    "* Quy trình:\n",
    "    * Phân nhóm câu hỏi cùng loại\n",
    "    * Tạo lập luận mẫu cho mỗi nhóm bằng Zero-shot CoT"
   ],
   "id": "7c3f4ac5bd53819f"
  },
  {
   "metadata": {},
   "cell_type": "markdown",
   "source": [
    "# 4. Best Practices\n",
    "* Sử dụng động từ chỉ dẫn: \"Hãy phân tích từng bước\", \"Giải thích logic trước khi trả lời\"\n",
    "* Kết hợp với Few-shot: Cung cấp 2-3 ví dụ mẫu có lập luận chi tiết\n",
    "* Kiểm soát độ dài: Dùng max_tokens phù hợp để đảm bảo đủ token cho các bước suy luận\n",
    "* Tối ưu temperature:\n",
    "    * Dùng temperature=0 cho tác vụ yêu cầu độ chính xác cao\n",
    "    * temperature=0.7 cho tác vụ sáng tạo\n",
    "\n",
    "# 5. Hạn chế\n",
    "* Hiệu quả giảm với mô hình nhỏ (dưới 10B parameters)\n",
    "* Tăng thời gian xử lý do phải sinh nhiều token hơn\n",
    "* Cần thiết kế prompt cẩn thận để tránh lập luận lệch hướng"
   ],
   "id": "8026f38e88318094"
  }
 ],
 "metadata": {
  "kernelspec": {
   "display_name": "Python 3",
   "language": "python",
   "name": "python3"
  },
  "language_info": {
   "codemirror_mode": {
    "name": "ipython",
    "version": 2
   },
   "file_extension": ".py",
   "mimetype": "text/x-python",
   "name": "python",
   "nbconvert_exporter": "python",
   "pygments_lexer": "ipython2",
   "version": "2.7.6"
  }
 },
 "nbformat": 4,
 "nbformat_minor": 5
}
