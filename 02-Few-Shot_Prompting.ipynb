{
 "cells": [
  {
   "metadata": {},
   "cell_type": "markdown",
   "source": [
    "# 1. Tổng quan\n",
    "\n",
    "```Few-shot prompting``` là kỹ thuật cung cấp cho mô hình ngôn ngữ (LLM) một số ví dụ mẫu (thường 2-5) trong prompt để hướng dẫn nó thực hiện nhiệm vụ cụ thể. Các ví dụ này giúp mô hình nhận biết mẫu, định dạng đầu ra và cải thiện độ chính xác so với zero-shot prompting.\n",
    "\n",
    "# 2. Đặc điểm\n",
    "* Số lượng ví dụ: 2–5 ví dụ (hiệu quả giảm dần khi quá 5)\n",
    "* Không cần huấn luyện lại: Dùng kiến thức sẵn có của mô hình\n",
    "* Linh hoạt: Áp dụng cho nhiều tác vụ như dịch thuật, phân loại, sinh code\n",
    "\n",
    "# 3. Best Practices\n",
    "* Chọn ví dụ đa dạng: Bao phủ các trường hợp biên\n",
    "* Giữ định dạng nhất quán: Ví dụ và đầu ra cần cùng cấu trúc\n",
    "* Thêm hướng dẫn rõ ràng: Mô tả nhiệm vụ trước khi đưa ví dụ\n",
    "* Kiểm soát độ dài prompt: Tránh vượt quá giới hạn token của model\n",
    "* Kết hợp với chain-of-thought: Thêm lập luận từng bước cho tác vụ phức tạp\n",
    "\n",
    "# 4. Một số ví dụ về Few-shot prompting"
   ],
   "id": "854ead2bbe03a2ff"
  },
  {
   "metadata": {
    "ExecuteTime": {
     "end_time": "2025-04-26T14:49:51.838423Z",
     "start_time": "2025-04-26T14:49:51.828439Z"
    }
   },
   "cell_type": "code",
   "source": [
    "from langchain_core.messages import HumanMessage, SystemMessage, AIMessage\n",
    "from langchain.chat_models import init_chat_model\n",
    "from dotenv import load_dotenv\n",
    "\n",
    "load_dotenv()"
   ],
   "id": "ab72896be6adde4e",
   "outputs": [
    {
     "data": {
      "text/plain": [
       "True"
      ]
     },
     "execution_count": 4,
     "metadata": {},
     "output_type": "execute_result"
    }
   ],
   "execution_count": 4
  },
  {
   "metadata": {
    "ExecuteTime": {
     "end_time": "2025-04-26T14:50:42.167893Z",
     "start_time": "2025-04-26T14:50:40.777948Z"
    }
   },
   "cell_type": "code",
   "source": [
    "model = init_chat_model(\n",
    "    model='gpt-4o-mini', \n",
    "    model_provider='openai',\n",
    "    temperature=0\n",
    ")\n",
    "\n",
    "\n",
    "messages = [\n",
    "    # Instruction\n",
    "    SystemMessage('Trong vai trò chuyên gia vật lý, hãy giúp tôi đổi độ C ra độ F, cho kết quả mà không cần giải thích quá nhiều'),\n",
    "    \n",
    "    # Examples\n",
    "    HumanMessage('Đổi 0 độ C ra độ F'),\n",
    "    AIMessage('32 Fahrenheit'),\n",
    "    HumanMessage('Đổi 100 độ C ra độ F'),\n",
    "    AIMessage('212 Fahrenheit'),\n",
    "    \n",
    "    # User query\n",
    "    HumanMessage('Đổi 37 độ C ra độ F'),\n",
    "]\n",
    "\n",
    "response = model.invoke(messages)\n",
    "print(response.content)  # Kết quả đúng: 98.6 Fahrenheit"
   ],
   "id": "fc1654603ae96721",
   "outputs": [
    {
     "name": "stdout",
     "output_type": "stream",
     "text": [
      "98.6 Fahrenheit\n"
     ]
    }
   ],
   "execution_count": 8
  },
  {
   "metadata": {},
   "cell_type": "code",
   "outputs": [],
   "execution_count": null,
   "source": "",
   "id": "8a18626371bbea39"
  }
 ],
 "metadata": {
  "kernelspec": {
   "display_name": "Python 3",
   "language": "python",
   "name": "python3"
  },
  "language_info": {
   "codemirror_mode": {
    "name": "ipython",
    "version": 2
   },
   "file_extension": ".py",
   "mimetype": "text/x-python",
   "name": "python",
   "nbconvert_exporter": "python",
   "pygments_lexer": "ipython2",
   "version": "2.7.6"
  }
 },
 "nbformat": 4,
 "nbformat_minor": 5
}
